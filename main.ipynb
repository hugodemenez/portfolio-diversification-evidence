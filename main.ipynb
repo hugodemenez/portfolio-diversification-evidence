{
 "cells": [
  {
   "cell_type": "code",
   "execution_count": 102,
   "metadata": {},
   "outputs": [
    {
     "name": "stdout",
     "output_type": "stream",
     "text": [
      "Requirement already satisfied: pip in /opt/homebrew/lib/python3.10/site-packages (23.1.2)\n",
      "Note: you may need to restart the kernel to use updated packages.\n",
      "Requirement already satisfied: pandas in /opt/homebrew/lib/python3.10/site-packages (2.0.2)\n",
      "Requirement already satisfied: numpy in /opt/homebrew/lib/python3.10/site-packages (1.24.3)\n",
      "Requirement already satisfied: openpyxl in /opt/homebrew/lib/python3.10/site-packages (3.1.2)\n",
      "Requirement already satisfied: matplotlib in /opt/homebrew/lib/python3.10/site-packages (3.7.1)\n",
      "Requirement already satisfied: seaborn in /opt/homebrew/lib/python3.10/site-packages (0.12.2)\n",
      "Requirement already satisfied: xlsxwriter in /opt/homebrew/lib/python3.10/site-packages (3.1.2)\n",
      "Requirement already satisfied: python-dateutil>=2.8.2 in /Users/hugodemenez/Library/Python/3.10/lib/python/site-packages (from pandas) (2.8.2)\n",
      "Requirement already satisfied: pytz>=2020.1 in /opt/homebrew/lib/python3.10/site-packages (from pandas) (2023.3)\n",
      "Requirement already satisfied: tzdata>=2022.1 in /opt/homebrew/lib/python3.10/site-packages (from pandas) (2023.3)\n",
      "Requirement already satisfied: et-xmlfile in /opt/homebrew/lib/python3.10/site-packages (from openpyxl) (1.1.0)\n",
      "Requirement already satisfied: contourpy>=1.0.1 in /opt/homebrew/lib/python3.10/site-packages (from matplotlib) (1.0.7)\n",
      "Requirement already satisfied: cycler>=0.10 in /opt/homebrew/lib/python3.10/site-packages (from matplotlib) (0.11.0)\n",
      "Requirement already satisfied: fonttools>=4.22.0 in /opt/homebrew/lib/python3.10/site-packages (from matplotlib) (4.39.4)\n",
      "Requirement already satisfied: kiwisolver>=1.0.1 in /opt/homebrew/lib/python3.10/site-packages (from matplotlib) (1.4.4)\n",
      "Requirement already satisfied: packaging>=20.0 in /Users/hugodemenez/Library/Python/3.10/lib/python/site-packages (from matplotlib) (23.1)\n",
      "Requirement already satisfied: pillow>=6.2.0 in /opt/homebrew/lib/python3.10/site-packages (from matplotlib) (9.5.0)\n",
      "Requirement already satisfied: pyparsing>=2.3.1 in /opt/homebrew/lib/python3.10/site-packages (from matplotlib) (3.0.9)\n",
      "Requirement already satisfied: six>=1.5 in /Users/hugodemenez/Library/Python/3.10/lib/python/site-packages (from python-dateutil>=2.8.2->pandas) (1.16.0)\n",
      "Note: you may need to restart the kernel to use updated packages.\n"
     ]
    }
   ],
   "source": [
    "%pip install --upgrade pip\n",
    "%pip install pandas numpy openpyxl matplotlib seaborn xlsxwriter\n",
    "import pandas,numpy,os,re,datetime,random,itertools\n",
    "import seaborn as sns\n",
    "import matplotlib.pyplot as plt"
   ]
  },
  {
   "cell_type": "markdown",
   "metadata": {},
   "source": [
    "# Paramètres"
   ]
  },
  {
   "cell_type": "code",
   "execution_count": 103,
   "metadata": {},
   "outputs": [],
   "source": [
    "PERIODE = [2020,2022]"
   ]
  },
  {
   "attachments": {},
   "cell_type": "markdown",
   "metadata": {},
   "source": [
    "# Chargement des données"
   ]
  },
  {
   "cell_type": "code",
   "execution_count": 104,
   "metadata": {},
   "outputs": [],
   "source": [
    "def get_indice_name(file_name:str)->str:\n",
    "    \"\"\"Cette fonction permet d'obtenir le nom de l'indice \n",
    "    à partir du code de ce dernier\n",
    "    \"\"\"\n",
    "    # Nous définissons les détails de chaque indice \n",
    "    # dans une liste de dictionnaires\n",
    "    # Avec les clés : code et name\n",
    "    indices = [\n",
    "        {'code':'^FCHI','name':'CAC40'},\n",
    "        {'code':'^GSPC','name':'S&P 500'},\n",
    "        {'code':'^HSI','name':'Hang Seng'},\n",
    "        {'code':'MSCI','name':'MSCI Emerging Markets'},\n",
    "        {'code':'^BVSP','name':'Sao Paolo'},\n",
    "        {'code':'^MOEX','name':'Moscow'},\n",
    "        {'code':'BSE','name':'Bombay'},\n",
    "        {'code':'TWII','name':'Taiwan'},\n",
    "        {'code':'Shanghai','name':'Shanghai'},\n",
    "        {'code':'DowJones','name':'Gold Commodity'},\n",
    "    ]\n",
    "    \n",
    "    # Nous parcourons la liste pour trouver \n",
    "    # le dictionnaire correspondant\n",
    "    # à l'indice dont le code correspond à file_name (paramètre)\n",
    "    for indice in indices:\n",
    "        if indice['code'] in file_name:\n",
    "            # Nous renvoyons le nom de l'indice correspondant\n",
    "            # Lorsqu'il est trouvé dans la liste\n",
    "            return indice['name']\n",
    "    # Sinon nous renvoyons le file_name (paramètre)\n",
    "    return file_name \n",
    "\n",
    "\n",
    "def load_data(directory:str)->dict:\n",
    "    # Nous définissons un dictionnaire\n",
    "    data = dict()\n",
    "    # Nous lisons tous les fichiers présents dans le directory (paramètre)\n",
    "    for file_path in os.listdir(directory):\n",
    "        try:\n",
    "            # Si MSCI alors le fichier est différent (séparateur ;)\n",
    "            if \"MSCI\" in file_path or \"Shanghai\" in file_path or \"DowJones\" in file_path:\n",
    "                # Nous lisons le fichier dans un dataframe\n",
    "                # En utilisant le séparateur ;\n",
    "                df = pandas.read_csv(f'{directory}/{file_path}', sep=';') \n",
    "            else:\n",
    "                # Nous lisons le fichier dans un dataframe\n",
    "                # Avec les paramètres par défaut\n",
    "                df = pandas.read_csv(f'{directory}/{file_path}')\n",
    "            # Nous ajoutons le dataframe dans le dictionnaire\n",
    "            data[get_indice_name(file_path)] = df\n",
    "        except Exception as error:\n",
    "            # S'il y a une erreur, nous affichons le message\n",
    "            # Mais nous ne levons pas d'exception\n",
    "            # Ceci permet de continuer le chargement\n",
    "            print(file_path,error)\n",
    "    # Nous renvoyons le dictionnaire avec toutes les données\n",
    "    return data"
   ]
  },
  {
   "cell_type": "code",
   "execution_count": 105,
   "metadata": {},
   "outputs": [
    {
     "name": "stdout",
     "output_type": "stream",
     "text": [
      ".DS_Store 'utf-8' codec can't decode byte 0x80 in position 3131: invalid start byte\n"
     ]
    }
   ],
   "source": [
    "data = load_data('./input')"
   ]
  },
  {
   "cell_type": "code",
   "execution_count": 106,
   "metadata": {},
   "outputs": [
    {
     "name": "stdout",
     "output_type": "stream",
     "text": [
      "{'Gold Commodity':             Date   Close\n",
      "0     07/03/2014  456.01\n",
      "1     07/07/2014  454.77\n",
      "2     07/08/2014  454.68\n",
      "3     07/09/2014  457.49\n",
      "4     07/10/2014  462.72\n",
      "...          ...     ...\n",
      "2262  06/27/2023  664.30\n",
      "2263  06/28/2023  663.74\n",
      "2264  06/29/2023  662.26\n",
      "2265  06/30/2023  666.23\n",
      "2266  07/03/2023  666.13\n",
      "\n",
      "[2267 rows x 2 columns], 'CAC40':             Date         Open         High          Low        Close  \\\n",
      "0     1990-03-01  1836.000000  1838.000000  1827.000000  1832.000000   \n",
      "1     1990-03-02  1831.000000  1860.000000  1831.000000  1860.000000   \n",
      "2     1990-03-05  1866.000000  1874.000000  1862.000000  1874.000000   \n",
      "3     1990-03-06  1869.000000  1875.000000  1866.000000  1872.000000   \n",
      "4     1990-03-07  1874.000000  1881.000000  1874.000000  1880.000000   \n",
      "...          ...          ...          ...          ...          ...   \n",
      "8577  2023-05-18  7440.750000  7481.779785  7426.390137  7446.890137   \n",
      "8578  2023-05-19  7469.779785  7523.560059  7463.959961  7491.959961   \n",
      "8579  2023-05-22  7467.930176  7493.379883  7452.689941  7478.160156   \n",
      "8580  2023-05-23  7457.180176  7459.370117  7378.709961  7378.709961   \n",
      "8581  2023-05-24  7306.140137  7308.589844  7223.580078  7253.459961   \n",
      "\n",
      "        Adj Close      Volume  \n",
      "0     1832.000000         0.0  \n",
      "1     1860.000000         0.0  \n",
      "2     1874.000000         0.0  \n",
      "3     1872.000000         0.0  \n",
      "4     1880.000000         0.0  \n",
      "...           ...         ...  \n",
      "8577  7446.890137  59991600.0  \n",
      "8578  7491.959961  67973200.0  \n",
      "8579  7478.160156  57439200.0  \n",
      "8580  7378.709961  65786700.0  \n",
      "8581  7253.459961  77511200.0  \n",
      "\n",
      "[8582 rows x 7 columns], 'S&P 500':            Date     Open     High      Low    Close\n",
      "0      05/22/23  4190.78  4209.22  4179.68  4192.63\n",
      "1      05/19/23  4204.15  4212.91  4180.20  4191.98\n",
      "2      05/18/23  4157.68  4202.20  4153.50  4198.05\n",
      "3      05/17/23  4122.85  4164.67  4113.62  4158.77\n",
      "4      05/16/23  4127.95  4135.54  4109.86  4109.90\n",
      "...         ...      ...      ...      ...      ...\n",
      "11439  01/09/78    90.64    91.52    90.01    90.64\n",
      "11440  01/06/78    91.62    92.66    91.05    91.62\n",
      "11441  01/05/78    92.74    94.53    92.51    92.74\n",
      "11442  01/04/78    93.52    94.10    93.16    93.52\n",
      "11443  01/03/78    93.82    95.15    93.49    93.82\n",
      "\n",
      "[11444 rows x 5 columns]}\n"
     ]
    }
   ],
   "source": [
    "print(data)"
   ]
  },
  {
   "attachments": {},
   "cell_type": "markdown",
   "metadata": {},
   "source": [
    "# Traitement des données"
   ]
  },
  {
   "cell_type": "code",
   "execution_count": 107,
   "metadata": {},
   "outputs": [],
   "source": [
    "def clean_data(data:dict)->dict:\n",
    "    # Nous définissons un nouveau dictionnaire\n",
    "    new_dict = dict()\n",
    "    # Nous parcourons les données\n",
    "    for header,content in data.items():\n",
    "        # Nous appliquonns le type DataFrame\n",
    "        # au contenu, afin de prévenir les erreurs\n",
    "        content = pandas.DataFrame(content)\n",
    "        # Nous vérifions le format du champ date\n",
    "        if re.match(\"^\\d{2}/\\d{2}/\\d{2}$\",content.Date[0]):\n",
    "            # Nous transformons le champ mm/dd/yy en yyyy-mm-dd\n",
    "            content.Date = content.Date.apply(\n",
    "                lambda x: pandas.to_datetime(x, format='%m/%d/%y').strftime('%Y-%m-%d')\n",
    "            )\n",
    "        elif re.match(\"^\\d{2}/\\d{2}/\\d{4}$\",content.Date[0]):\n",
    "            # Nous transformons le champ mm/dd/yyyy en yyyy-mm-dd\n",
    "            content.Date = content.Date.apply(\n",
    "                lambda x: pandas.to_datetime(x, format='%m/%d/%Y').strftime('%Y-%m-%d')\n",
    "            )\n",
    "\n",
    "        for column_name in content.columns:\n",
    "            # Si le nom de la colonne comporte Close ou Date\n",
    "            if column_name.strip().upper() in ['CLOSE','DATE']:\n",
    "                # Si la colonne est date\n",
    "                if column_name.strip().upper() in ['DATE']:\n",
    "                    # Nous trions les dates par ordre croissant\n",
    "                    content = content.sort_values(column_name, ascending=True)\n",
    "                    # Nous ajoutons en indices la colonne date\n",
    "                    content = content.set_index(column_name)\n",
    "                    # Nous convertissons le type en datetime\n",
    "                    content.index = pandas.to_datetime(content.index)\n",
    "                else:\n",
    "                    # Nous enregistrons le nom de la colonne close\n",
    "                    close_column = [column_name]\n",
    "        \n",
    "\n",
    "        # Nous gardons uniquement la colonne close\n",
    "        content = content.loc[:, close_column]\n",
    "\n",
    "    \n",
    "        # Nous supprimons les lignes vides\n",
    "        content = content.dropna()\n",
    "\n",
    "        new_dict[header] = content\n",
    "    return new_dict"
   ]
  },
  {
   "cell_type": "code",
   "execution_count": 108,
   "metadata": {},
   "outputs": [],
   "source": [
    "cleaned_data = clean_data(data)"
   ]
  },
  {
   "cell_type": "code",
   "execution_count": 109,
   "metadata": {},
   "outputs": [
    {
     "name": "stdout",
     "output_type": "stream",
     "text": [
      "{'Gold Commodity':              Close\n",
      "Date              \n",
      "2014-07-03  456.01\n",
      "2014-07-07  454.77\n",
      "2014-07-08  454.68\n",
      "2014-07-09  457.49\n",
      "2014-07-10  462.72\n",
      "...            ...\n",
      "2023-06-27  664.30\n",
      "2023-06-28  663.74\n",
      "2023-06-29  662.26\n",
      "2023-06-30  666.23\n",
      "2023-07-03  666.13\n",
      "\n",
      "[2267 rows x 1 columns], 'CAC40':                   Close\n",
      "Date                   \n",
      "1990-03-01  1832.000000\n",
      "1990-03-02  1860.000000\n",
      "1990-03-05  1874.000000\n",
      "1990-03-06  1872.000000\n",
      "1990-03-07  1880.000000\n",
      "...                 ...\n",
      "2023-05-18  7446.890137\n",
      "2023-05-19  7491.959961\n",
      "2023-05-22  7478.160156\n",
      "2023-05-23  7378.709961\n",
      "2023-05-24  7253.459961\n",
      "\n",
      "[8435 rows x 1 columns], 'S&P 500':               Close\n",
      "Date               \n",
      "1978-01-03    93.82\n",
      "1978-01-04    93.52\n",
      "1978-01-05    92.74\n",
      "1978-01-06    91.62\n",
      "1978-01-09    90.64\n",
      "...             ...\n",
      "2023-05-16  4109.90\n",
      "2023-05-17  4158.77\n",
      "2023-05-18  4198.05\n",
      "2023-05-19  4191.98\n",
      "2023-05-22  4192.63\n",
      "\n",
      "[11444 rows x 1 columns]}\n"
     ]
    }
   ],
   "source": [
    "print(cleaned_data)"
   ]
  },
  {
   "attachments": {},
   "cell_type": "markdown",
   "metadata": {},
   "source": [
    "# Calcul des statistiques"
   ]
  },
  {
   "cell_type": "code",
   "execution_count": 110,
   "metadata": {},
   "outputs": [],
   "source": [
    "def statistics(cleaned_data:dict)->dict:\n",
    "    # Nous allons calculer le rendement hebdomadaire\n",
    "    # prix de clôture du dernier jour de la semaine divisé par\n",
    "    # prix de clôture du premier jour de la semaine\n",
    "    results = pandas.DataFrame()\n",
    "    for header,df in cleaned_data.items():\n",
    "        stats = pandas.DataFrame({'Rendements hebdomadaires':[]})\n",
    "        first = True\n",
    "        for index, row in df.iterrows():\n",
    "            if first:\n",
    "                first_day_price = row[0]\n",
    "                week = index.week\n",
    "                first = False\n",
    "            # Si la semaine change\n",
    "            if index.week != week:\n",
    "                # Nous calculons le rendement hebdomadaire\n",
    "                stats.loc[index] = [(last_day_price/first_day_price)-1]\n",
    "                first_day_price = row[0]\n",
    "                week = index.week\n",
    "            last_day_price = row[0]    \n",
    "        results[header] = stats\n",
    "        results = results.dropna()\n",
    "    return results\n",
    "\n",
    "\n"
   ]
  },
  {
   "cell_type": "code",
   "execution_count": 111,
   "metadata": {},
   "outputs": [],
   "source": [
    "statistics = statistics(cleaned_data)"
   ]
  },
  {
   "cell_type": "code",
   "execution_count": 112,
   "metadata": {},
   "outputs": [
    {
     "name": "stdout",
     "output_type": "stream",
     "text": [
      "            Gold Commodity     CAC40   S&P 500\n",
      "2014-07-07        0.000000  0.010432  0.012861\n",
      "2014-07-14        0.016382 -0.020260 -0.005097\n",
      "2014-07-21        0.002214 -0.003386  0.000566\n",
      "2014-07-28       -0.007749  0.005996  0.002386\n",
      "2014-08-04       -0.008428 -0.032681 -0.027166\n",
      "...                    ...       ...       ...\n",
      "2023-04-17        0.005983  0.017500  0.006943\n",
      "2023-04-24       -0.008210  0.010512 -0.004288\n",
      "2023-05-08        0.018316  0.006736 -0.007587\n",
      "2023-05-15       -0.000951 -0.003502 -0.003393\n",
      "2023-05-22       -0.020478  0.009942  0.013466\n",
      "\n",
      "[411 rows x 3 columns]\n"
     ]
    }
   ],
   "source": [
    "print(statistics)"
   ]
  },
  {
   "attachments": {},
   "cell_type": "markdown",
   "metadata": {},
   "source": [
    "# Construction des portefeuilles"
   ]
  },
  {
   "cell_type": "code",
   "execution_count": 113,
   "metadata": {},
   "outputs": [],
   "source": [
    "def generate_weights(indexes_number):\n",
    "    # Define the number of indexes and the step value\n",
    "    num_indexes = indexes_number\n",
    "    step = 0.05\n",
    "\n",
    "    # Define the range of percentages to generate\n",
    "    min_percent = 0\n",
    "    max_percent = 1\n",
    "    percent_range = range(int(min_percent/step), int(max_percent/step) + 1)\n",
    "\n",
    "    # Generate all combinations of percentages using itertools.product()\n",
    "    weight_combinations = itertools.product(percent_range, repeat=num_indexes)\n",
    "\n",
    "    return [list(round(w*step,2) for w in weights) for weights in weight_combinations if sum(weights)*step == 1.0]\n"
   ]
  },
  {
   "cell_type": "code",
   "execution_count": 114,
   "metadata": {},
   "outputs": [],
   "source": [
    "statistics.to_excel('output.xlsx')"
   ]
  },
  {
   "cell_type": "code",
   "execution_count": 115,
   "metadata": {},
   "outputs": [],
   "source": [
    "# Create portfolios composed of 3 indexes (always 2 developed markets)\n",
    "\n",
    "def portfolio_creation(merged_df):\n",
    "    # Initialize excel writer to draw charts later\n",
    "    writer = pandas.ExcelWriter(f'./results/portfolios.xlsx', engine='xlsxwriter')\n",
    "    # Create a workbook and worksheet object from the writer\n",
    "    workbook = writer.book\n",
    "    # keep only rows with index between PERIODE\n",
    "    merged_df = statistics[merged_df.index.year >= PERIODE[0]]\n",
    "    merged_df = merged_df[merged_df.index.year <= PERIODE[1]]\n",
    "    # Calculate the correlation matrix\n",
    "    corr_matrix = merged_df[merged_df.columns].corr()\n",
    "    # Create a heatmap of the correlation matrix\n",
    "    sns.heatmap(corr_matrix, cmap='gray', annot=True)\n",
    "    # Save the heatmap to file\n",
    "    plt.savefig('heatmap.png')\n",
    "    \n",
    "    developed_market = merged_df[[\"CAC40\",\"S&P 500\"]]\n",
    "    print(merged_df.info())\n",
    "    # Remove two columns from the DataFrame\n",
    "    merged_df = merged_df.drop([\"CAC40\",\"S&P 500\"], axis=1)\n",
    "    weights_list = generate_weights(3)\n",
    "\n",
    "    for emerging_market in merged_df.columns:\n",
    "        # Create a storage df\n",
    "        portfolios_df = pandas.DataFrame()\n",
    "        details = pandas.DataFrame()\n",
    "        analyzed_portfolio = developed_market.copy()\n",
    "        analyzed_portfolio[emerging_market] = merged_df[emerging_market]\n",
    "\n",
    "        for i,weights in enumerate(weights_list):\n",
    "            # TO calculate the return of the portfolio,\n",
    "            # we can use the weight\n",
    "            # but to calculate the risk, we have to use covariance matrix\n",
    "            returns = numpy.array([analyzed_portfolio[mean_column] for mean_column in analyzed_portfolio.columns])\n",
    "            cov_matrix = numpy.cov(returns)\n",
    "            # Portfolio standard deviation\n",
    "            portfolio_std = numpy.sqrt(numpy.dot(numpy.dot(weights, cov_matrix), weights))\n",
    "            # Calculate portfolio return\n",
    "            portfolio_return = numpy.mean(numpy.dot(returns.T, weights))\n",
    "            composition = str()\n",
    "            portfolio_df = pandas.DataFrame({\n",
    "                'risks':portfolio_std,\n",
    "                'returns':portfolio_return,\n",
    "                },index=[i])\n",
    "            for weight,title in zip(weights,analyzed_portfolio.columns):\n",
    "                portfolio_df[title]=f\"{round(weight*100)}%\"\n",
    "                composition += f\"{title} : {round(weight*100)}%\\n\"\n",
    "                if weight == 1.0:\n",
    "                    detail = pandas.DataFrame(\n",
    "                        {\n",
    "                            'risks':portfolio_std,\n",
    "                            'returns':portfolio_return,\n",
    "                        },\n",
    "                        index=[i]\n",
    "                    )\n",
    "                    detail[\"Étiquette\"] = f\"{title} : {round(weight*100)}%\"\n",
    "                    details = pandas.concat([details,detail])\n",
    "\n",
    "            portfolios_df = pandas.concat([portfolios_df,portfolio_df])\n",
    "        \n",
    "        portfolios_df = portfolios_df.sort_values(emerging_market)\n",
    "        portfolios_df.to_excel(writer,sheet_name=emerging_market,index=False)\n",
    "        # Get the workbook and worksheet objects from the writer\n",
    "        worksheet = writer.sheets[emerging_market]\n",
    "\n",
    "        # Define the format for the first two columns\n",
    "        percentage_format = workbook.add_format({'num_format': '0.00%'})\n",
    "        worksheet.set_column('A:B', None, percentage_format)\n",
    "\n",
    "        # Get the index label of the portfolio with the lowest risk\n",
    "        min_risk_portfolio = portfolios_df['risks'].idxmin()\n",
    "        min_risk_portfolio = portfolios_df.loc[[min_risk_portfolio]]\n",
    "        headers = min_risk_portfolio.drop(['risks', 'returns'], axis=1).columns\n",
    "        values =  min_risk_portfolio.drop(['risks', 'returns'], axis=1).values.tolist()[0]\n",
    "        etiquette = str()\n",
    "        for header,value in zip(headers,values):\n",
    "            etiquette += f\"{header} : {value}\\n\"\n",
    "        min_risk_portfolio[\"Étiquette\"] = etiquette.rstrip(\"\\n\")\n",
    "        min_risk_portfolio = min_risk_portfolio.drop(headers, axis=1)\n",
    "        details = pandas.concat([details,min_risk_portfolio])\n",
    "        details.to_excel(writer,sheet_name=f\"{emerging_market}_extremes\",index=False)\n",
    "    writer.close()\n"
   ]
  },
  {
   "cell_type": "code",
   "execution_count": 116,
   "metadata": {},
   "outputs": [
    {
     "name": "stdout",
     "output_type": "stream",
     "text": [
      "<class 'pandas.core.frame.DataFrame'>\n",
      "DatetimeIndex: 138 entries, 2020-01-06 to 2022-12-27\n",
      "Data columns (total 3 columns):\n",
      " #   Column          Non-Null Count  Dtype  \n",
      "---  ------          --------------  -----  \n",
      " 0   Gold Commodity  138 non-null    float64\n",
      " 1   CAC40           138 non-null    float64\n",
      " 2   S&P 500         138 non-null    float64\n",
      "dtypes: float64(3)\n",
      "memory usage: 4.3 KB\n",
      "None\n"
     ]
    },
    {
     "data": {
      "image/png": "[encoded data removed]",
      "text/plain": [
       "<Figure size 640x480 with 2 Axes>"
      ]
     },
     "metadata": {},
     "output_type": "display_data"
    }
   ],
   "source": [
    "portfolio_creation(statistics)"
   ]
  },
  {
   "attachments": {},
   "cell_type": "markdown",
   "metadata": {},
   "source": [
    "# Calcul de la matrice de corrélation"
   ]
  },
  {
   "cell_type": "markdown",
   "metadata": {},
   "source": [
    "# find the index of the row with the lowest risk for each return group\n",
    "min_risk_idx = portfolios_df.groupby('returns')['risks'].idxmin()\n",
    "\n",
    "# filter the dataframe to keep only the rows with the lowest risk for each return group\n",
    "df = portfolios_df.loc[min_risk_idx]\n",
    "\n",
    "# order the dataframe by \"return\"\n",
    "df = df.sort_values(by='returns')\n",
    "\n",
    "# filter out rows where the \"risk\" column is not in ascending order as well\n",
    "df = df[df['risks'].diff().fillna(0) >= 0]\n",
    "\n",
    "\n",
    "# reset the index of the dataframe\n",
    "df = df.reset_index(drop=True)\n",
    "\n",
    "df.to_excel(writer,sheet_name=\"cleaned\",index=False)"
   ]
  }
 ],
 "metadata": {
  "kernelspec": {
   "display_name": "Python 3",
   "language": "python",
   "name": "python3"
  },
  "language_info": {
   "codemirror_mode": {
    "name": "ipython",
    "version": 3
   },
   "file_extension": ".py",
   "mimetype": "text/x-python",
   "name": "python",
   "nbconvert_exporter": "python",
   "pygments_lexer": "ipython3",
   "version": "3.10.12"
  },
  "orig_nbformat": 4
 },
 "nbformat": 4,
 "nbformat_minor": 2
}
