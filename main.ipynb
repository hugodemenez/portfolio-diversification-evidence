{
 "cells": [
  {
   "cell_type": "code",
   "execution_count": 39,
   "metadata": {},
   "outputs": [
    {
     "name": "stdout",
     "output_type": "stream",
     "text": [
      "Defaulting to user installation because normal site-packages is not writeable\n",
      "Requirement already satisfied: pip in /home/vscode/.local/lib/python3.11/site-packages (23.1.2)\n",
      "Note: you may need to restart the kernel to use updated packages.\n",
      "Defaulting to user installation because normal site-packages is not writeable\n",
      "Requirement already satisfied: pandas in /home/vscode/.local/lib/python3.11/site-packages (2.0.2)\n",
      "Requirement already satisfied: numpy in /home/vscode/.local/lib/python3.11/site-packages (1.24.3)\n",
      "Requirement already satisfied: openpyxl in /home/vscode/.local/lib/python3.11/site-packages (3.1.2)\n",
      "Requirement already satisfied: matplotlib in /home/vscode/.local/lib/python3.11/site-packages (3.7.1)\n",
      "Requirement already satisfied: seaborn in /home/vscode/.local/lib/python3.11/site-packages (0.12.2)\n",
      "Requirement already satisfied: python-dateutil>=2.8.2 in /home/vscode/.local/lib/python3.11/site-packages (from pandas) (2.8.2)\n",
      "Requirement already satisfied: pytz>=2020.1 in /home/vscode/.local/lib/python3.11/site-packages (from pandas) (2023.3)\n",
      "Requirement already satisfied: tzdata>=2022.1 in /home/vscode/.local/lib/python3.11/site-packages (from pandas) (2023.3)\n",
      "Requirement already satisfied: et-xmlfile in /home/vscode/.local/lib/python3.11/site-packages (from openpyxl) (1.1.0)\n",
      "Requirement already satisfied: contourpy>=1.0.1 in /home/vscode/.local/lib/python3.11/site-packages (from matplotlib) (1.0.7)\n",
      "Requirement already satisfied: cycler>=0.10 in /home/vscode/.local/lib/python3.11/site-packages (from matplotlib) (0.11.0)\n",
      "Requirement already satisfied: fonttools>=4.22.0 in /home/vscode/.local/lib/python3.11/site-packages (from matplotlib) (4.39.4)\n",
      "Requirement already satisfied: kiwisolver>=1.0.1 in /home/vscode/.local/lib/python3.11/site-packages (from matplotlib) (1.4.4)\n",
      "Requirement already satisfied: packaging>=20.0 in /home/vscode/.local/lib/python3.11/site-packages (from matplotlib) (23.1)\n",
      "Requirement already satisfied: pillow>=6.2.0 in /home/vscode/.local/lib/python3.11/site-packages (from matplotlib) (9.5.0)\n",
      "Requirement already satisfied: pyparsing>=2.3.1 in /home/vscode/.local/lib/python3.11/site-packages (from matplotlib) (3.0.9)\n",
      "Requirement already satisfied: six>=1.5 in /home/vscode/.local/lib/python3.11/site-packages (from python-dateutil>=2.8.2->pandas) (1.16.0)\n",
      "Note: you may need to restart the kernel to use updated packages.\n"
     ]
    }
   ],
   "source": [
    "%pip install --upgrade pip\n",
    "%pip install pandas numpy openpyxl matplotlib seaborn\n",
    "import pandas,numpy,os,re,datetime,random,itertools"
   ]
  },
  {
   "attachments": {},
   "cell_type": "markdown",
   "metadata": {},
   "source": [
    "# Read excel files"
   ]
  },
  {
   "cell_type": "code",
   "execution_count": 40,
   "metadata": {},
   "outputs": [],
   "source": [
    "def get_indice_name(file_name:str)->str:\n",
    "    \"\"\"Cette fonction permet d'obtenir le nom de l'indice \n",
    "    à partir du code de ce dernier\n",
    "    \"\"\"\n",
    "    # Nous définissons les détails de chaque indice \n",
    "    # dans une liste de dictionnaires\n",
    "    # Avec les clés : code et name\n",
    "    indices = [\n",
    "            {'code':'^FCHI','name':'CAC40'},\n",
    "            {'code':'^GSPC','name':'S&P 500'},\n",
    "            {'code':'^HSI','name':'Hang Seng'},\n",
    "            {'code':'MSCI','name':'MSCI Emerging Markets'},\n",
    "            ]\n",
    "    \n",
    "    # Nous parcourons la liste pour trouver \n",
    "    # le dictionnaire correspondant\n",
    "    # à l'indice dont le code correspond à file_name (paramètre)\n",
    "    for indice in indices:\n",
    "        if indice['code'] in file_name:\n",
    "            # Nous renvoyons le nom de l'indice correspondant\n",
    "            # Lorsqu'il est trouvé dans la liste\n",
    "            return indice['name']\n",
    "    # Sinon nous renvoyons le file_name (paramètre)\n",
    "    return file_name \n",
    "\n",
    "\n",
    "def load_data(directory:str)->dict:\n",
    "    # Nous définissons un dictionnaire\n",
    "    data = dict()\n",
    "    # Nous lisons tous les fichiers présents dans le directory (paramètre)\n",
    "    for file_path in os.listdir(directory):\n",
    "        try:\n",
    "            # Si MSCI alors le fichier est différent (séparateur ;)\n",
    "            if \"MSCI\" in file_path:\n",
    "                # Nous lisons le fichier dans un dataframe\n",
    "                # En utilisant le séparateur ;\n",
    "                df = pandas.read_csv(f'{directory}/{file_path}', sep=';') \n",
    "            else:\n",
    "                # Nous lisons le fichier dans un dataframe\n",
    "                # Avec les paramètres par défaut\n",
    "                df = pandas.read_csv(f'{directory}/{file_path}')\n",
    "            # Nous ajoutons le dataframe dans le dictionnaire\n",
    "            data[get_indice_name(file_path)] = df\n",
    "        except Exception as error:\n",
    "            # S'il y a une erreur, nous affichons le message\n",
    "            # Mais nous ne levons pas d'exception\n",
    "            # Ceci permet de continuer le chargement\n",
    "            print(error)\n",
    "    # Nous renvoyons le dictionnaire avec toutes les données\n",
    "    return data"
   ]
  },
  {
   "cell_type": "code",
   "execution_count": 41,
   "metadata": {},
   "outputs": [
    {
     "name": "stdout",
     "output_type": "stream",
     "text": [
      ".DS_Store\n",
      "'utf-8' codec can't decode byte 0x80 in position 3131: invalid start byte\n",
      "MSCI_EM.csv\n",
      "^FCHI.csv\n",
      "^HSI.csv\n"
     ]
    }
   ],
   "source": [
    "data = load_data('./input')"
   ]
  },
  {
   "cell_type": "code",
   "execution_count": 42,
   "metadata": {},
   "outputs": [
    {
     "name": "stdout",
     "output_type": "stream",
     "text": [
      "{'MSCI Emerging Markets':             Date    Close     Open     High      Low\n",
      "0     05/26/2023   972.86   963.09   973.60   963.09\n",
      "1     05/25/2023   964.01   970.42   973.38   962.53\n",
      "2     05/24/2023   970.90   977.20   977.74   969.84\n",
      "3     05/23/2023   978.60   983.84   985.86   977.19\n",
      "4     05/22/2023   983.27   977.26   984.90   976.87\n",
      "...          ...      ...      ...      ...      ...\n",
      "2950  02/03/2012  1048.36  1043.92  1050.36  1039.83\n",
      "2951  02/02/2012  1043.96  1032.93  1045.24  1032.87\n",
      "2952  02/01/2012  1029.87  1018.01  1031.25  1014.52\n",
      "2953  01/31/2012  1019.39  1007.23  1022.46  1006.48\n",
      "2954  01/30/2012  1006.17  1018.59  1021.66  1001.98\n",
      "\n",
      "[2955 rows x 5 columns], 'CAC40':             Date         Open         High          Low        Close  \\\n",
      "0     1990-03-01  1836.000000  1838.000000  1827.000000  1832.000000   \n",
      "1     1990-03-02  1831.000000  1860.000000  1831.000000  1860.000000   \n",
      "2     1990-03-05  1866.000000  1874.000000  1862.000000  1874.000000   \n",
      "3     1990-03-06  1869.000000  1875.000000  1866.000000  1872.000000   \n",
      "4     1990-03-07  1874.000000  1881.000000  1874.000000  1880.000000   \n",
      "...          ...          ...          ...          ...          ...   \n",
      "8577  2023-05-18  7440.750000  7481.779785  7426.390137  7446.890137   \n",
      "8578  2023-05-19  7469.779785  7523.560059  7463.959961  7491.959961   \n",
      "8579  2023-05-22  7467.930176  7493.379883  7452.689941  7478.160156   \n",
      "8580  2023-05-23  7457.180176  7459.370117  7378.709961  7378.709961   \n",
      "8581  2023-05-24  7306.140137  7308.589844  7223.580078  7253.459961   \n",
      "\n",
      "        Adj Close      Volume  \n",
      "0     1832.000000         0.0  \n",
      "1     1860.000000         0.0  \n",
      "2     1874.000000         0.0  \n",
      "3     1872.000000         0.0  \n",
      "4     1880.000000         0.0  \n",
      "...           ...         ...  \n",
      "8577  7446.890137  59991600.0  \n",
      "8578  7491.959961  67973200.0  \n",
      "8579  7478.160156  57439200.0  \n",
      "8580  7378.709961  65786700.0  \n",
      "8581  7253.459961  77511200.0  \n",
      "\n",
      "[8582 rows x 7 columns], 'Hang Seng':             Date          Open          High           Low         Close  \\\n",
      "0     1986-12-31   2568.300049   2568.300049   2568.300049   2568.300049   \n",
      "1     1987-01-01           NaN           NaN           NaN           NaN   \n",
      "2     1987-01-02   2540.100098   2540.100098   2540.100098   2540.100098   \n",
      "3     1987-01-05   2552.399902   2552.399902   2552.399902   2552.399902   \n",
      "4     1987-01-06   2583.899902   2583.899902   2583.899902   2583.899902   \n",
      "...          ...           ...           ...           ...           ...   \n",
      "9234  2023-05-19  19535.490234  19610.720703  19352.810547  19450.570313   \n",
      "9235  2023-05-22  19479.060547  19806.439453  19410.070313  19678.169922   \n",
      "9236  2023-05-23  19713.460938  19769.140625  19363.500000  19431.250000   \n",
      "9237  2023-05-24  19279.390625  19304.199219  19046.800781  19115.929688   \n",
      "9238  2023-05-25  18930.230469  18930.230469  18620.839844  18746.919922   \n",
      "\n",
      "         Adj Close        Volume  \n",
      "0      2568.300049  0.000000e+00  \n",
      "1              NaN           NaN  \n",
      "2      2540.100098  0.000000e+00  \n",
      "3      2552.399902  0.000000e+00  \n",
      "4      2583.899902  0.000000e+00  \n",
      "...            ...           ...  \n",
      "9234  19450.570313  1.947231e+09  \n",
      "9235  19678.169922  1.677940e+09  \n",
      "9236  19431.250000  1.888539e+09  \n",
      "9237  19115.929688  2.476667e+09  \n",
      "9238  18746.919922  2.792439e+09  \n",
      "\n",
      "[9239 rows x 7 columns]}\n"
     ]
    }
   ],
   "source": [
    "print(data)"
   ]
  },
  {
   "attachments": {},
   "cell_type": "markdown",
   "metadata": {},
   "source": [
    "# Clean the data"
   ]
  },
  {
   "cell_type": "code",
   "execution_count": 43,
   "metadata": {},
   "outputs": [],
   "source": [
    "def clean_data(data:dict)->dict:\n",
    "    # Nous définissons un nouveau dictionnaire\n",
    "    new_dict = dict()\n",
    "    # Nous parcourons les données\n",
    "    for header,content in data.items():\n",
    "        # Nous appliquonns le type DataFrame\n",
    "        # au contenu, afin de prévenir les erreurs\n",
    "        content = pandas.DataFrame(content)\n",
    "        # Nous vérifions le format du champ date\n",
    "        if re.match(\"^\\d{2}/\\d{2}/\\d{2}$\",content.Date[0]):\n",
    "            # Nous transformons le champ mm/dd/yy en yyyy-mm-dd\n",
    "            content.Date = content.Date.apply(\n",
    "                lambda x: pandas.to_datetime(x, format='%m/%d/%y').strftime('%Y-%m-%d')\n",
    "            )\n",
    "        elif re.match(\"^\\d{2}/\\d{2}/\\d{4}$\",content.Date[0]):\n",
    "            # Nous transformons le champ mm/dd/yyyy en yyyy-mm-dd\n",
    "            content.Date = content.Date.apply(\n",
    "                lambda x: pandas.to_datetime(x, format='%m/%d/%Y').strftime('%Y-%m-%d')\n",
    "            )\n",
    "\n",
    "\n",
    "        for column_name in content.columns:\n",
    "            # Si le nom de la colonne comporte Close ou Date\n",
    "            if column_name.strip().upper() in ['CLOSE','DATE']:\n",
    "                # Si la colonne est date\n",
    "                if column_name.strip().upper() in ['DATE']:\n",
    "                    # Nous trions les dates par ordre croissant\n",
    "                    content = content.sort_values(column_name, ascending=True)\n",
    "                    # Nous ajoutons en indices la colonne date\n",
    "                    content = content.set_index(column_name)\n",
    "                    # Nous convertissons le type en datetime\n",
    "                    content.index = pandas.to_datetime(content.index)\n",
    "                else:\n",
    "                    # Nous enregistrons le nom de la colonne close\n",
    "                    close_column = list(column_name)\n",
    "        \n",
    "\n",
    "        # Nous gardons uniquement la colonne close\n",
    "        content = content.loc[:, close_column]\n",
    "    \n",
    "        # Nous supprimons les lignes vides\n",
    "        content = content.dropna()\n",
    "\n",
    "        new_dict[header] = content\n",
    "    return new_dict"
   ]
  },
  {
   "cell_type": "code",
   "execution_count": 44,
   "metadata": {},
   "outputs": [],
   "source": [
    "cleaned_data = clean_data(data)"
   ]
  },
  {
   "attachments": {},
   "cell_type": "markdown",
   "metadata": {},
   "source": [
    "# Compute statistics"
   ]
  },
  {
   "cell_type": "code",
   "execution_count": 45,
   "metadata": {},
   "outputs": [],
   "source": [
    "def statistics(cleaned_data:dict)->dict:\n",
    "    # Nous allons calculer le rendement annuel\n",
    "    # prix de clôture du dernier jour de l'année divisé par\n",
    "    # prix de clôture du premier jour de l'année)\n",
    "    results = list()\n",
    "    for header,df in cleaned_data.items():\n",
    "        stats = list()\n",
    "        first = True\n",
    "        for index, row in df.iterrows():\n",
    "            if first:\n",
    "                first_day_price = row[0]\n",
    "                year = index.year\n",
    "                first = False\n",
    "            # Si l'année change\n",
    "            if index.year != year:\n",
    "                # Nous calculons le rendement annuel\n",
    "                stats.append({year:(last_day_price/first_day_price)-1})\n",
    "                first_day_price = row[0]\n",
    "                year = index.year\n",
    "            last_day_price = row[0]        \n",
    "        results.append({header:stats})\n",
    "    return results\n"
   ]
  },
  {
   "cell_type": "code",
   "execution_count": 46,
   "metadata": {},
   "outputs": [],
   "source": [
    "yearly_data = statistics(cleaned_data)"
   ]
  },
  {
   "cell_type": "code",
   "execution_count": null,
   "metadata": {},
   "outputs": [],
   "source": [
    "print(yearly_data)"
   ]
  },
  {
   "cell_type": "code",
   "execution_count": 51,
   "metadata": {},
   "outputs": [],
   "source": [
    "dataframes = pandas.DataFrame()\n",
    "for header,yearly_return in yearly_data.items():\n",
    "    xs = list()\n",
    "    ys = list()\n",
    "    for a in yearly_return:\n",
    "        for y,x in a.items():\n",
    "            ys.append(y)\n",
    "            xs.append(x)\n",
    "    dataframes[header]=pandas.DataFrame(xs,index=ys)\n",
    "\n",
    "dataframes.to_excel('output.xlsx')"
   ]
  },
  {
   "attachments": {},
   "cell_type": "markdown",
   "metadata": {},
   "source": [
    "# Now we should construct portfolios"
   ]
  },
  {
   "cell_type": "code",
   "execution_count": 52,
   "metadata": {},
   "outputs": [],
   "source": [
    "def generate_weights(indexes_number):\n",
    "    # Define the number of indexes and the step value\n",
    "    num_indexes = indexes_number\n",
    "    step = 0.05\n",
    "\n",
    "    # Define the range of percentages to generate\n",
    "    min_percent = 0\n",
    "    max_percent = 1\n",
    "    percent_range = range(int(min_percent/step), int(max_percent/step) + 1)\n",
    "\n",
    "    # Generate all combinations of percentages using itertools.product()\n",
    "    weight_combinations = itertools.product(percent_range, repeat=num_indexes)\n",
    "\n",
    "    return [list(round(w*step,2) for w in weights) for weights in weight_combinations if sum(weights)*step == 1.0]\n"
   ]
  },
  {
   "cell_type": "code",
   "execution_count": 53,
   "metadata": {},
   "outputs": [],
   "source": [
    "merged_df = dataframes.dropna()\n",
    "\n",
    "# keep only rows with index above 2012\n",
    "merged_df = merged_df[merged_df.index >= 2012]\n",
    "\n",
    "# Create a storage df\n",
    "portfolios_df = pandas.DataFrame()\n",
    "\n",
    "weights_list = generate_weights(len(merged_df.columns))\n",
    "for i,weights in enumerate(weights_list):\n",
    "    # TO calculate the return of the portfolio,\n",
    "    # we can use the weight\n",
    "    # but to calculate the risk, we have to use covariance matrix\n",
    "    returns = numpy.array([merged_df[mean_column] for mean_column in merged_df.columns])\n",
    "    cov_matrix = numpy.cov(returns)\n",
    "    # Portfolio standard deviation\n",
    "    portfolio_std = numpy.sqrt(numpy.dot(numpy.dot(weights, cov_matrix), weights))\n",
    "    # Calculate portfolio return\n",
    "    portfolio_return = numpy.mean(numpy.dot(returns.T, weights))\n",
    "    composition = str()\n",
    "    portfolio_df = pandas.DataFrame({'return':portfolio_return,'risk':portfolio_std},index=[i])\n",
    "    for weight,title in zip(weights,merged_df.columns):\n",
    "        portfolio_df[title]=f\"{round(weight*100)}%\"\n",
    "    portfolios_df = pandas.concat([portfolios_df,portfolio_df])\n"
   ]
  },
  {
   "attachments": {},
   "cell_type": "markdown",
   "metadata": {},
   "source": [
    "# Display statistics about analyzed data"
   ]
  },
  {
   "cell_type": "code",
   "execution_count": 54,
   "metadata": {},
   "outputs": [],
   "source": [
    "#merged_df.describe().round(2).to_excel('statistics.xlsx')"
   ]
  },
  {
   "attachments": {},
   "cell_type": "markdown",
   "metadata": {},
   "source": [
    "# Draw the correlation matrix for the data"
   ]
  },
  {
   "cell_type": "code",
   "execution_count": 55,
   "metadata": {},
   "outputs": [
    {
     "data": {
      "image/png": "[encoded data removed]",
      "text/plain": [
       "<Figure size 640x480 with 2 Axes>"
      ]
     },
     "metadata": {},
     "output_type": "display_data"
    }
   ],
   "source": [
    "import seaborn as sns\n",
    "\n",
    "# Calculate the correlation matrix\n",
    "corr_matrix = merged_df[merged_df.columns].corr()\n",
    "\n",
    "# Create a heatmap of the correlation matrix\n",
    "sns.heatmap(corr_matrix, cmap='gray', annot=True)\n",
    "\n",
    "\n",
    "# Save the heatmap to file\n",
    "import matplotlib.pyplot as plt\n",
    "plt.savefig('heatmap.png')"
   ]
  },
  {
   "attachments": {},
   "cell_type": "markdown",
   "metadata": {},
   "source": [
    "# Find most relevant portfolio"
   ]
  },
  {
   "cell_type": "code",
   "execution_count": 56,
   "metadata": {},
   "outputs": [],
   "source": [
    "# Initialize excel writer to draw charts later\n",
    "writer = pandas.ExcelWriter('portfolio.xlsx')\n",
    "portfolios_df.to_excel(writer,sheet_name=\"portfolios\",index=False)\n",
    "# Get the index label of the portfolio with the lowest risk\n",
    "min_risk_portfolio = portfolios_df['risk'].idxmin()\n",
    "\n",
    "# Get the index label of the portfolio with the highest risk\n",
    "max_risk_portfolio = portfolios_df['risk'].idxmax()\n",
    "\n",
    "# Get the index label of the portfolio with the best Sharpe ratio\n",
    "best_sharpe_portfolio = (portfolios_df['return']/portfolios_df['risk']).idxmax()\n",
    "\n",
    "# Select the rows corresponding to the selected portfolios\n",
    "selected_portfolios = portfolios_df.loc[[min_risk_portfolio, max_risk_portfolio, best_sharpe_portfolio]]\n",
    "selected_portfolios.to_excel(writer,sheet_name=\"extremes\",index=False)\n",
    "\n",
    "writer.close()"
   ]
  },
  {
   "cell_type": "code",
   "execution_count": 57,
   "metadata": {},
   "outputs": [],
   "source": [
    "sample = portfolios_df.sample(n=10, random_state=42)"
   ]
  }
 ],
 "metadata": {
  "kernelspec": {
   "display_name": "Python 3",
   "language": "python",
   "name": "python3"
  },
  "language_info": {
   "codemirror_mode": {
    "name": "ipython",
    "version": 3
   },
   "file_extension": ".py",
   "mimetype": "text/x-python",
   "name": "python",
   "nbconvert_exporter": "python",
   "pygments_lexer": "ipython3",
   "version": "3.11.3"
  },
  "orig_nbformat": 4
 },
 "nbformat": 4,
 "nbformat_minor": 2
}
